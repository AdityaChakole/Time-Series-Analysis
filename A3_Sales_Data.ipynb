{
 "cells": [
  {
   "cell_type": "code",
   "execution_count": 1,
   "id": "5ea09780",
   "metadata": {},
   "outputs": [],
   "source": [
    "import numpy as np\n",
    "import pandas as pd\n",
    "import scipy.stats as sp\n",
    "import seaborn as sns\n",
    "    \n",
    "import matplotlib.pyplot as plt\n",
    "from pandas.plotting import register_matplotlib_converters\n",
    " \n",
    "from sklearn.linear_model import LinearRegression as lm\n",
    "import statsmodels.api as sm"
   ]
  },
  {
   "cell_type": "code",
   "execution_count": 2,
   "id": "4448a93c",
   "metadata": {},
   "outputs": [],
   "source": [
    " # create a differenced series- get only random fluctuations\n",
    "def difference(dataset, interval=1):\n",
    "    diff = list()\n",
    "    for i in range(interval, len(dataset)):\n",
    "        value = dataset[i] - dataset[i - interval]\n",
    "        diff.append(value)\n",
    "    return (diff)"
   ]
  },
  {
   "cell_type": "code",
   "execution_count": 3,
   "id": "844dcab9",
   "metadata": {},
   "outputs": [],
   "source": [
    "# Create large images!\n",
    "register_matplotlib_converters()\n",
    "sns.set_style(\"darkgrid\")\n",
    "plt.rc(\"figure\", figsize=(16, 12)) # was 14,8\n",
    "plt.rc(\"font\", size=13)"
   ]
  },
  {
   "cell_type": "markdown",
   "id": "861588ba",
   "metadata": {},
   "source": [
    "# Sales Data"
   ]
  },
  {
   "cell_type": "code",
   "execution_count": 4,
   "id": "bdd364ec",
   "metadata": {},
   "outputs": [
    {
     "name": "stderr",
     "output_type": "stream",
     "text": [
      "WARNING: pip is being invoked by an old script wrapper. This will fail in a future version of pip.\n",
      "Please see https://github.com/pypa/pip/issues/5599 for advice on fixing the underlying issue.\n",
      "To avoid this problem you can invoke Python with '-m pip' instead of running pip directly.\n"
     ]
    },
    {
     "data": {
      "text/html": [
       "<pre style=\"white-space:pre;overflow-x:auto;line-height:normal;font-family:Menlo,'DejaVu Sans Mono',consolas,'Courier New',monospace\">Requirement already satisfied: openpyxl in c:\\users\\ishangi jain\\appdata\\local\\programs\\python\\python310\\lib\\site-packages (3.0.10)\n",
       "</pre>\n"
      ],
      "text/plain": [
       "Requirement already satisfied: openpyxl in c:\\users\\ishangi jain\\appdata\\local\\programs\\python\\python310\\lib\\site-packages (3.0.10)\n"
      ]
     },
     "metadata": {},
     "output_type": "display_data"
    },
    {
     "data": {
      "text/html": [
       "<pre style=\"white-space:pre;overflow-x:auto;line-height:normal;font-family:Menlo,'DejaVu Sans Mono',consolas,'Courier New',monospace\">Requirement already satisfied: et-xmlfile in c:\\users\\ishangi jain\\appdata\\local\\programs\\python\\python310\\lib\\site-packages (from openpyxl) (1.1.0)\n",
       "</pre>\n"
      ],
      "text/plain": [
       "Requirement already satisfied: et-xmlfile in c:\\users\\ishangi jain\\appdata\\local\\programs\\python\\python310\\lib\\site-packages (from openpyxl) (1.1.0)\n"
      ]
     },
     "metadata": {},
     "output_type": "display_data"
    },
    {
     "data": {
      "text/plain": [
       "0"
      ]
     },
     "execution_count": 4,
     "metadata": {},
     "output_type": "execute_result"
    }
   ],
   "source": [
    "import pip\n",
    "pip.main([\"install\", \"openpyxl\"])"
   ]
  },
  {
   "cell_type": "code",
   "execution_count": 5,
   "id": "ebfd4096",
   "metadata": {},
   "outputs": [],
   "source": [
    "import glob\n",
    "import pandas as pd\n",
    "\n",
    "# get data file names\n",
    "path =r'D:\\Ishangi_comeback\\Aegis\\Aegis_Advanced_Stats\\Final_Assignment\\Raw_data'\n",
    "filenames = glob.glob(path + \"/*.xlsx\")\n",
    "\n",
    "dfs = []\n",
    "\n",
    "for df in dfs: \n",
    "    xl_file = pd.ExcelFile(filenames)"
   ]
  },
  {
   "cell_type": "code",
   "execution_count": 6,
   "id": "b072e3bf",
   "metadata": {},
   "outputs": [
    {
     "data": {
      "text/html": [
       "<div>\n",
       "<style scoped>\n",
       "    .dataframe tbody tr th:only-of-type {\n",
       "        vertical-align: middle;\n",
       "    }\n",
       "\n",
       "    .dataframe tbody tr th {\n",
       "        vertical-align: top;\n",
       "    }\n",
       "\n",
       "    .dataframe thead th {\n",
       "        text-align: right;\n",
       "    }\n",
       "</style>\n",
       "<table border=\"1\" class=\"dataframe\">\n",
       "  <thead>\n",
       "    <tr style=\"text-align: right;\">\n",
       "      <th></th>\n",
       "      <th>Account Period</th>\n",
       "      <th>Local Volume</th>\n",
       "    </tr>\n",
       "  </thead>\n",
       "  <tbody>\n",
       "    <tr>\n",
       "      <th>0</th>\n",
       "      <td>AY2016P01</td>\n",
       "      <td>3532792.50</td>\n",
       "    </tr>\n",
       "    <tr>\n",
       "      <th>1</th>\n",
       "      <td>AY2016P02</td>\n",
       "      <td>3549664.80</td>\n",
       "    </tr>\n",
       "    <tr>\n",
       "      <th>2</th>\n",
       "      <td>AY2016P03</td>\n",
       "      <td>3970284.63</td>\n",
       "    </tr>\n",
       "    <tr>\n",
       "      <th>3</th>\n",
       "      <td>AY2016P04</td>\n",
       "      <td>3679121.10</td>\n",
       "    </tr>\n",
       "    <tr>\n",
       "      <th>4</th>\n",
       "      <td>AY2016P05</td>\n",
       "      <td>3806548.60</td>\n",
       "    </tr>\n",
       "    <tr>\n",
       "      <th>5</th>\n",
       "      <td>AY2016P06</td>\n",
       "      <td>4134018.70</td>\n",
       "    </tr>\n",
       "    <tr>\n",
       "      <th>6</th>\n",
       "      <td>AY2016P07</td>\n",
       "      <td>3274831.80</td>\n",
       "    </tr>\n",
       "    <tr>\n",
       "      <th>7</th>\n",
       "      <td>AY2016P08</td>\n",
       "      <td>3479610.00</td>\n",
       "    </tr>\n",
       "    <tr>\n",
       "      <th>8</th>\n",
       "      <td>AY2016P09</td>\n",
       "      <td>3891123.48</td>\n",
       "    </tr>\n",
       "    <tr>\n",
       "      <th>9</th>\n",
       "      <td>AY2016P10</td>\n",
       "      <td>3663367.60</td>\n",
       "    </tr>\n",
       "    <tr>\n",
       "      <th>10</th>\n",
       "      <td>AY2016P11</td>\n",
       "      <td>3953353.10</td>\n",
       "    </tr>\n",
       "    <tr>\n",
       "      <th>11</th>\n",
       "      <td>AY2016P12</td>\n",
       "      <td>3938802.60</td>\n",
       "    </tr>\n",
       "    <tr>\n",
       "      <th>12</th>\n",
       "      <td>AY2017P01</td>\n",
       "      <td>3538711.90</td>\n",
       "    </tr>\n",
       "    <tr>\n",
       "      <th>13</th>\n",
       "      <td>AY2017P02</td>\n",
       "      <td>3634948.60</td>\n",
       "    </tr>\n",
       "    <tr>\n",
       "      <th>14</th>\n",
       "      <td>AY2017P03</td>\n",
       "      <td>4055000.50</td>\n",
       "    </tr>\n",
       "    <tr>\n",
       "      <th>15</th>\n",
       "      <td>AY2017P04</td>\n",
       "      <td>3701486.30</td>\n",
       "    </tr>\n",
       "    <tr>\n",
       "      <th>16</th>\n",
       "      <td>AY2017P05</td>\n",
       "      <td>3786504.50</td>\n",
       "    </tr>\n",
       "    <tr>\n",
       "      <th>17</th>\n",
       "      <td>AY2017P06</td>\n",
       "      <td>3536973.90</td>\n",
       "    </tr>\n",
       "    <tr>\n",
       "      <th>18</th>\n",
       "      <td>AY2017P07</td>\n",
       "      <td>3164788.30</td>\n",
       "    </tr>\n",
       "    <tr>\n",
       "      <th>19</th>\n",
       "      <td>AY2017P08</td>\n",
       "      <td>3533519.80</td>\n",
       "    </tr>\n",
       "  </tbody>\n",
       "</table>\n",
       "</div>"
      ],
      "text/plain": [
       "   Account Period  Local Volume\n",
       "0       AY2016P01    3532792.50\n",
       "1       AY2016P02    3549664.80\n",
       "2       AY2016P03    3970284.63\n",
       "3       AY2016P04    3679121.10\n",
       "4       AY2016P05    3806548.60\n",
       "5       AY2016P06    4134018.70\n",
       "6       AY2016P07    3274831.80\n",
       "7       AY2016P08    3479610.00\n",
       "8       AY2016P09    3891123.48\n",
       "9       AY2016P10    3663367.60\n",
       "10      AY2016P11    3953353.10\n",
       "11      AY2016P12    3938802.60\n",
       "12      AY2017P01    3538711.90\n",
       "13      AY2017P02    3634948.60\n",
       "14      AY2017P03    4055000.50\n",
       "15      AY2017P04    3701486.30\n",
       "16      AY2017P05    3786504.50\n",
       "17      AY2017P06    3536973.90\n",
       "18      AY2017P07    3164788.30\n",
       "19      AY2017P08    3533519.80"
      ]
     },
     "execution_count": 6,
     "metadata": {},
     "output_type": "execute_result"
    }
   ],
   "source": [
    "# it is the real data for a company's Local Volume\n",
    "Cast = pd.read_excel(\"Sales_Data.xlsx\") # data is taken every day\n",
    "Cast.head(20)"
   ]
  },
  {
   "cell_type": "code",
   "execution_count": 7,
   "id": "5719eef1",
   "metadata": {},
   "outputs": [
    {
     "data": {
      "text/plain": [
       "(24, 2)"
      ]
     },
     "execution_count": 7,
     "metadata": {},
     "output_type": "execute_result"
    }
   ],
   "source": [
    "Cast.shape"
   ]
  },
  {
   "cell_type": "code",
   "execution_count": 8,
   "id": "d7106567",
   "metadata": {},
   "outputs": [
    {
     "data": {
      "text/plain": [
       "[<matplotlib.lines.Line2D at 0x25c48338940>]"
      ]
     },
     "execution_count": 8,
     "metadata": {},
     "output_type": "execute_result"
    },
    {
     "data": {
      "image/png": "[encoded data removed]",
      "text/plain": [
       "<Figure size 432x288 with 1 Axes>"
      ]
     },
     "metadata": {
      "needs_background": "light"
     },
     "output_type": "display_data"
    }
   ],
   "source": [
    "plt.plot(Cast['Local Volume'])"
   ]
  },
  {
   "cell_type": "code",
   "execution_count": 9,
   "id": "687b676a",
   "metadata": {},
   "outputs": [
    {
     "data": {
      "text/plain": [
       "(24,)"
      ]
     },
     "execution_count": 9,
     "metadata": {},
     "output_type": "execute_result"
    }
   ],
   "source": [
    "df=Cast['Local Volume']\n",
    "df.shape"
   ]
  },
  {
   "cell_type": "code",
   "execution_count": 10,
   "id": "577645bf",
   "metadata": {},
   "outputs": [
    {
     "data": {
      "text/plain": [
       "(-4.211284062388322,\n",
       " 0.0006305122698150682,\n",
       " 7,\n",
       " 16,\n",
       " {'1%': -3.9240193847656246, '5%': -3.0684982031250003, '10%': -2.67389265625},\n",
       " 377.7947689936247)"
      ]
     },
     "execution_count": 10,
     "metadata": {},
     "output_type": "execute_result"
    }
   ],
   "source": [
    "sm.tsa.stattools.adfuller(df)\n",
    "\n",
    "#IN ADF test, H0: Data is NOT STATIONARY\n",
    "#             H1: Data is STATIONARY\n",
    "\n",
    "#In result, 2nd value is p-value which is <0.05 hence, Null hypothesis can be rejected(H1: Data is STATIONARY)."
   ]
  },
  {
   "cell_type": "code",
   "execution_count": 11,
   "id": "a2562b8d",
   "metadata": {},
   "outputs": [],
   "source": [
    "# As the data is already stationay, no need for detrending or deseasonalizing the data.\n",
    "# The STL decomposition also supports the same\n",
    "#df_diff1 = difference(df, 1)"
   ]
  },
  {
   "cell_type": "code",
   "execution_count": 12,
   "id": "f341e07a",
   "metadata": {},
   "outputs": [],
   "source": [
    "# Creating STL decomposition\n",
    "from statsmodels.tsa.seasonal import STL"
   ]
  },
  {
   "cell_type": "code",
   "execution_count": 13,
   "id": "6f1419af",
   "metadata": {},
   "outputs": [],
   "source": [
    "stl = STL(df, period=12)\n"
   ]
  },
  {
   "cell_type": "code",
   "execution_count": 14,
   "id": "3ceecb09",
   "metadata": {},
   "outputs": [
    {
     "data": {
      "image/png": "[encoded data removed]",
      "text/plain": [
       "<Figure size 432x288 with 4 Axes>"
      ]
     },
     "metadata": {
      "needs_background": "light"
     },
     "output_type": "display_data"
    }
   ],
   "source": [
    "res = stl.fit()\n",
    "fig = res.plot()"
   ]
  },
  {
   "cell_type": "markdown",
   "id": "e48b02e6",
   "metadata": {},
   "source": [
    "Split data into train and test (70-30)"
   ]
  },
  {
   "cell_type": "code",
   "execution_count": 15,
   "id": "90447226",
   "metadata": {},
   "outputs": [],
   "source": [
    "#from sklearn.model_selection import train_test_split\n",
    "# this will not work, because, it will take the data randomly and break the sequence\n",
    "\n",
    "ratio = len(df)*7//10 # taking 70-30 split for train and test\n",
    "train = df.iloc[:ratio,]\n",
    "test=df.iloc[ratio:,]"
   ]
  },
  {
   "cell_type": "code",
   "execution_count": 16,
   "id": "8c47423f",
   "metadata": {},
   "outputs": [
    {
     "data": {
      "text/plain": [
       "(16,)"
      ]
     },
     "execution_count": 16,
     "metadata": {},
     "output_type": "execute_result"
    }
   ],
   "source": [
    "train.shape"
   ]
  },
  {
   "cell_type": "code",
   "execution_count": 17,
   "id": "844e5a97",
   "metadata": {},
   "outputs": [
    {
     "data": {
      "text/plain": [
       "(8,)"
      ]
     },
     "execution_count": 17,
     "metadata": {},
     "output_type": "execute_result"
    }
   ],
   "source": [
    "test.shape"
   ]
  },
  {
   "cell_type": "markdown",
   "id": "769f6d43",
   "metadata": {},
   "source": [
    "# M1- ARIMA"
   ]
  },
  {
   "cell_type": "code",
   "execution_count": 18,
   "id": "b4edad6a",
   "metadata": {},
   "outputs": [],
   "source": [
    "import statsmodels.api as sm\n",
    "from statsmodels.tsa.stattools import acf\n",
    "from statsmodels.tsa.stattools import pacf"
   ]
  },
  {
   "cell_type": "code",
   "execution_count": 19,
   "id": "239dda34",
   "metadata": {},
   "outputs": [
    {
     "name": "stderr",
     "output_type": "stream",
     "text": [
      "C:\\Users\\Ishangi Jain\\AppData\\Local\\Programs\\Python\\Python310\\lib\\site-packages\\statsmodels\\graphics\\tsaplots.py:348: FutureWarning: The default method 'yw' can produce PACF values outside of the [-1,1] interval. After 0.13, the default will change tounadjusted Yule-Walker ('ywm'). You can use this method now by setting method='ywm'.\n",
      "  warnings.warn(\n"
     ]
    },
    {
     "data": {
      "image/png": "[encoded data removed]",
      "text/plain": [
       "<Figure size 1008x576 with 2 Axes>"
      ]
     },
     "metadata": {
      "needs_background": "light"
     },
     "output_type": "display_data"
    }
   ],
   "source": [
    "fig = plt.figure(figsize=(14, 8))\n",
    "ax1 = fig.add_subplot(211)\n",
    "fig = sm.graphics.tsa.plot_acf(df, lags=10, ax=ax1)\n",
    "ax2 = fig.add_subplot(212)\n",
    "fig = sm.graphics.tsa.plot_pacf(df, lags=10, ax=ax2)"
   ]
  },
  {
   "cell_type": "code",
   "execution_count": 20,
   "id": "75e8af96",
   "metadata": {},
   "outputs": [
    {
     "name": "stderr",
     "output_type": "stream",
     "text": [
      "C:\\Users\\Ishangi Jain\\AppData\\Local\\Programs\\Python\\Python310\\lib\\site-packages\\statsmodels\\tsa\\statespace\\sarimax.py:978: UserWarning: Non-invertible starting MA parameters found. Using zeros as starting parameters.\n",
      "  warn('Non-invertible starting MA parameters found.'\n"
     ]
    },
    {
     "data": {
      "text/plain": [
       "{'bic':             0           1           2\n",
       " 0  728.526059  676.405459  674.409406\n",
       " 1  678.004987  676.804562  676.531019\n",
       " 2  679.871509  679.025804  679.590855\n",
       " 3  682.223150  681.795629  682.589765\n",
       " 4  672.791207  676.041092  676.148249,\n",
       " 'bic_min_order': (4, 0)}"
      ]
     },
     "execution_count": 20,
     "metadata": {},
     "output_type": "execute_result"
    }
   ],
   "source": [
    "sm.tsa.stattools.arma_order_select_ic(df)"
   ]
  },
  {
   "cell_type": "code",
   "execution_count": 21,
   "id": "be54e5fb",
   "metadata": {},
   "outputs": [
    {
     "name": "stdout",
     "output_type": "stream",
     "text": [
      "                               SARIMAX Results                                \n",
      "==============================================================================\n",
      "Dep. Variable:           Local Volume   No. Observations:                   16\n",
      "Model:                 ARIMA(0, 1, 0)   Log Likelihood                -213.200\n",
      "Date:                Mon, 29 Aug 2022   AIC                            428.399\n",
      "Time:                        22:35:05   BIC                            429.107\n",
      "Sample:                             0   HQIC                           428.392\n",
      "                                 - 16                                         \n",
      "Covariance Type:                  opg                                         \n",
      "==============================================================================\n",
      "                 coef    std err          z      P>|z|      [0.025      0.975]\n",
      "------------------------------------------------------------------------------\n",
      "sigma2      1.214e+11   4.36e+10      2.786      0.005     3.6e+10    2.07e+11\n",
      "===================================================================================\n",
      "Ljung-Box (L1) (Q):                   3.05   Jarque-Bera (JB):                 1.59\n",
      "Prob(Q):                              0.08   Prob(JB):                         0.45\n",
      "Heteroskedasticity (H):               1.22   Skew:                            -0.80\n",
      "Prob(H) (two-sided):                  0.83   Kurtosis:                         2.91\n",
      "===================================================================================\n",
      "\n",
      "Warnings:\n",
      "[1] Covariance matrix calculated using the outer product of gradients (complex-step).\n"
     ]
    }
   ],
   "source": [
    "# As per the ACF, PACF plot, p=0,q=0.\n",
    "# Conclusion: It is a model explained by Random Walk/ Naive model\n",
    "M1 = sm.tsa.arima.ARIMA(train,order=(0,1,0),seasonal_order=(0,0,0,0))\n",
    "#my_model = sm.tsa.arima.ARIMA(tdf,order=(1,2,1),seasonal_order=(0,1,0,12))\n",
    "M1_res = M1.fit()\n",
    "print(M1_res.summary())"
   ]
  },
  {
   "cell_type": "code",
   "execution_count": 22,
   "id": "0672b02f",
   "metadata": {},
   "outputs": [
    {
     "data": {
      "image/png": "[encoded data removed]",
      "text/plain": [
       "<Figure size 432x288 with 4 Axes>"
      ]
     },
     "metadata": {
      "needs_background": "light"
     },
     "output_type": "display_data"
    }
   ],
   "source": [
    "pred = M1_res.plot_diagnostics()"
   ]
  },
  {
   "cell_type": "code",
   "execution_count": 23,
   "id": "d81e6d10",
   "metadata": {},
   "outputs": [
    {
     "data": {
      "text/plain": [
       "[<matplotlib.lines.Line2D at 0x25c45b136d0>]"
      ]
     },
     "execution_count": 23,
     "metadata": {},
     "output_type": "execute_result"
    },
    {
     "data": {
      "image/png": "[encoded data removed]",
      "text/plain": [
       "<Figure size 432x288 with 1 Axes>"
      ]
     },
     "metadata": {
      "needs_background": "light"
     },
     "output_type": "display_data"
    }
   ],
   "source": [
    "tforecast =  M1_res.forecast(8)\n",
    "plt.plot(train)\n",
    "plt.plot(tforecast)"
   ]
  },
  {
   "cell_type": "code",
   "execution_count": 24,
   "id": "0444f812",
   "metadata": {},
   "outputs": [],
   "source": [
    "tpredict =  M1_res.predict(1)"
   ]
  },
  {
   "cell_type": "code",
   "execution_count": 25,
   "id": "04aee68d",
   "metadata": {},
   "outputs": [
    {
     "data": {
      "text/plain": [
       "[<matplotlib.lines.Line2D at 0x25c48789db0>]"
      ]
     },
     "execution_count": 25,
     "metadata": {},
     "output_type": "execute_result"
    },
    {
     "data": {
      "image/png": "[encoded data removed]",
      "text/plain": [
       "<Figure size 432x288 with 1 Axes>"
      ]
     },
     "metadata": {
      "needs_background": "light"
     },
     "output_type": "display_data"
    }
   ],
   "source": [
    "plt.plot(train) # blue\n",
    "plt.plot(tpredict)#orange\n",
    "plt.plot(tforecast) #green"
   ]
  },
  {
   "cell_type": "code",
   "execution_count": 26,
   "id": "d367d286",
   "metadata": {},
   "outputs": [],
   "source": [
    "tforecast2 = M1_res.get_forecast(8)\n",
    "confint = np.array(tforecast2.conf_int())"
   ]
  },
  {
   "cell_type": "code",
   "execution_count": 27,
   "id": "45b2cb41",
   "metadata": {},
   "outputs": [
    {
     "data": {
      "text/plain": [
       "<matplotlib.legend.Legend at 0x25c487a12d0>"
      ]
     },
     "execution_count": 27,
     "metadata": {},
     "output_type": "execute_result"
    },
    {
     "data": {
      "image/png": "[encoded data removed]",
      "text/plain": [
       "<Figure size 864x576 with 1 Axes>"
      ]
     },
     "metadata": {
      "needs_background": "light"
     },
     "output_type": "display_data"
    }
   ],
   "source": [
    "fig,ax = plt.subplots(figsize=(12,8))\n",
    "ax.plot(df.index, df, label='data')\n",
    "ax.plot(tforecast2.predicted_mean.index, tforecast2.predicted_mean, label='forecast')\n",
    "ax.fill_between(tforecast2.predicted_mean.index, confint[:,0], confint[:,1],color='gray',alpha=0.3)\n",
    "ax.legend()"
   ]
  },
  {
   "cell_type": "code",
   "execution_count": 28,
   "id": "32ce787a",
   "metadata": {},
   "outputs": [
    {
     "data": {
      "text/plain": [
       "345988.91737608355"
      ]
     },
     "execution_count": 28,
     "metadata": {},
     "output_type": "execute_result"
    }
   ],
   "source": [
    "#RMSE for test data for M1(ARIMA)\n",
    "from sklearn.metrics import mean_squared_error\n",
    "RMSE=mean_squared_error(test,tforecast,squared=False)\n",
    "RMSE"
   ]
  },
  {
   "cell_type": "code",
   "execution_count": 29,
   "id": "eb9f6492",
   "metadata": {},
   "outputs": [
    {
     "data": {
      "text/plain": [
       "-0.019490926331146463"
      ]
     },
     "execution_count": 29,
     "metadata": {},
     "output_type": "execute_result"
    }
   ],
   "source": [
    "# Calculating R-Squared to evaluate the model\n",
    "#The ideal value for R-squared is 1 for best fit model\n",
    "#Value of R-square can also be negative when the model fitted is worse than the average fitted model. \n",
    "\n",
    "from sklearn.metrics import r2_score\n",
    "\n",
    "r2 = r2_score(test, tforecast)\n",
    "r2"
   ]
  },
  {
   "cell_type": "markdown",
   "id": "a9fcf9c7",
   "metadata": {},
   "source": [
    "# M2- AutoARIMA"
   ]
  },
  {
   "cell_type": "code",
   "execution_count": 30,
   "id": "222f24be",
   "metadata": {},
   "outputs": [],
   "source": [
    "# !pip install pmdarima"
   ]
  },
  {
   "cell_type": "code",
   "execution_count": 31,
   "id": "d0161f4e",
   "metadata": {},
   "outputs": [],
   "source": [
    "import pmdarima as pm"
   ]
  },
  {
   "cell_type": "code",
   "execution_count": 32,
   "id": "757b2fbc",
   "metadata": {},
   "outputs": [
    {
     "name": "stdout",
     "output_type": "stream",
     "text": [
      "Performing stepwise search to minimize aic\n",
      " ARIMA(0,1,0)(0,0,0)[0] intercept   : AIC=430.353, Time=0.01 sec\n",
      " ARIMA(1,1,0)(0,0,0)[0] intercept   : AIC=432.086, Time=0.01 sec\n",
      " ARIMA(0,1,1)(0,0,0)[0] intercept   : AIC=432.069, Time=0.02 sec\n",
      " ARIMA(0,1,0)(0,0,0)[0]             : AIC=428.399, Time=0.01 sec\n",
      " ARIMA(1,1,1)(0,0,0)[0] intercept   : AIC=433.914, Time=0.04 sec\n",
      "\n",
      "Best model:  ARIMA(0,1,0)(0,0,0)[0]          \n",
      "Total fit time: 0.088 seconds\n"
     ]
    },
    {
     "name": "stderr",
     "output_type": "stream",
     "text": [
      "C:\\Users\\Ishangi Jain\\AppData\\Local\\Programs\\Python\\Python310\\lib\\site-packages\\pmdarima\\arima\\_validation.py:62: UserWarning: m (12) set for non-seasonal fit. Setting to 0\n",
      "  warnings.warn(\"m (%i) set for non-seasonal fit. Setting to 0\" % m)\n"
     ]
    }
   ],
   "source": [
    "# The parameter is set to : seasonal=False \n",
    "M2 = pm.auto_arima(train,start_p=0, start_q=0,\n",
    "                             max_p=5, max_q=5, m=12,\n",
    "                             start_P=0, seasonal=False,\n",
    "                             d=1, D=1, trace=True,\n",
    "                             error_action='ignore',  # don't want to know if an order does not work\n",
    "                             suppress_warnings=True,  # don't want convergence warnings\n",
    "                             stepwise=True)  # set to stepwise"
   ]
  },
  {
   "cell_type": "code",
   "execution_count": 33,
   "id": "286e0da8",
   "metadata": {},
   "outputs": [
    {
     "data": {
      "text/html": [
       "<table class=\"simpletable\">\n",
       "<caption>SARIMAX Results</caption>\n",
       "<tr>\n",
       "  <th>Dep. Variable:</th>           <td>y</td>        <th>  No. Observations:  </th>    <td>16</td>   \n",
       "</tr>\n",
       "<tr>\n",
       "  <th>Model:</th>           <td>SARIMAX(0, 1, 0)</td> <th>  Log Likelihood     </th> <td>-213.200</td>\n",
       "</tr>\n",
       "<tr>\n",
       "  <th>Date:</th>            <td>Mon, 29 Aug 2022</td> <th>  AIC                </th>  <td>428.399</td>\n",
       "</tr>\n",
       "<tr>\n",
       "  <th>Time:</th>                <td>22:35:06</td>     <th>  BIC                </th>  <td>429.107</td>\n",
       "</tr>\n",
       "<tr>\n",
       "  <th>Sample:</th>                  <td>0</td>        <th>  HQIC               </th>  <td>428.392</td>\n",
       "</tr>\n",
       "<tr>\n",
       "  <th></th>                       <td> - 16</td>      <th>                     </th>     <td> </td>   \n",
       "</tr>\n",
       "<tr>\n",
       "  <th>Covariance Type:</th>        <td>opg</td>       <th>                     </th>     <td> </td>   \n",
       "</tr>\n",
       "</table>\n",
       "<table class=\"simpletable\">\n",
       "<tr>\n",
       "     <td></td>       <th>coef</th>     <th>std err</th>      <th>z</th>      <th>P>|z|</th>  <th>[0.025</th>    <th>0.975]</th>  \n",
       "</tr>\n",
       "<tr>\n",
       "  <th>sigma2</th> <td> 1.214e+11</td> <td> 4.36e+10</td> <td>    2.786</td> <td> 0.005</td> <td>  3.6e+10</td> <td> 2.07e+11</td>\n",
       "</tr>\n",
       "</table>\n",
       "<table class=\"simpletable\">\n",
       "<tr>\n",
       "  <th>Ljung-Box (L1) (Q):</th>     <td>3.05</td> <th>  Jarque-Bera (JB):  </th> <td>1.59</td> \n",
       "</tr>\n",
       "<tr>\n",
       "  <th>Prob(Q):</th>                <td>0.08</td> <th>  Prob(JB):          </th> <td>0.45</td> \n",
       "</tr>\n",
       "<tr>\n",
       "  <th>Heteroskedasticity (H):</th> <td>1.22</td> <th>  Skew:              </th> <td>-0.80</td>\n",
       "</tr>\n",
       "<tr>\n",
       "  <th>Prob(H) (two-sided):</th>    <td>0.83</td> <th>  Kurtosis:          </th> <td>2.91</td> \n",
       "</tr>\n",
       "</table><br/><br/>Warnings:<br/>[1] Covariance matrix calculated using the outer product of gradients (complex-step)."
      ],
      "text/plain": [
       "<class 'statsmodels.iolib.summary.Summary'>\n",
       "\"\"\"\n",
       "                               SARIMAX Results                                \n",
       "==============================================================================\n",
       "Dep. Variable:                      y   No. Observations:                   16\n",
       "Model:               SARIMAX(0, 1, 0)   Log Likelihood                -213.200\n",
       "Date:                Mon, 29 Aug 2022   AIC                            428.399\n",
       "Time:                        22:35:06   BIC                            429.107\n",
       "Sample:                             0   HQIC                           428.392\n",
       "                                 - 16                                         \n",
       "Covariance Type:                  opg                                         \n",
       "==============================================================================\n",
       "                 coef    std err          z      P>|z|      [0.025      0.975]\n",
       "------------------------------------------------------------------------------\n",
       "sigma2      1.214e+11   4.36e+10      2.786      0.005     3.6e+10    2.07e+11\n",
       "===================================================================================\n",
       "Ljung-Box (L1) (Q):                   3.05   Jarque-Bera (JB):                 1.59\n",
       "Prob(Q):                              0.08   Prob(JB):                         0.45\n",
       "Heteroskedasticity (H):               1.22   Skew:                            -0.80\n",
       "Prob(H) (two-sided):                  0.83   Kurtosis:                         2.91\n",
       "===================================================================================\n",
       "\n",
       "Warnings:\n",
       "[1] Covariance matrix calculated using the outer product of gradients (complex-step).\n",
       "\"\"\""
      ]
     },
     "execution_count": 33,
     "metadata": {},
     "output_type": "execute_result"
    }
   ],
   "source": [
    "M2.summary()"
   ]
  },
  {
   "cell_type": "code",
   "execution_count": 34,
   "id": "5588b112",
   "metadata": {},
   "outputs": [
    {
     "data": {
      "text/plain": [
       "[<matplotlib.lines.Line2D at 0x25c4ab67940>]"
      ]
     },
     "execution_count": 34,
     "metadata": {},
     "output_type": "execute_result"
    },
    {
     "data": {
      "image/png": "[encoded data removed]",
      "text/plain": [
       "<Figure size 432x288 with 1 Axes>"
      ]
     },
     "metadata": {
      "needs_background": "light"
     },
     "output_type": "display_data"
    }
   ],
   "source": [
    "M2.fit(train)\n",
    "fc = M2.predict(8)\n",
    "plt.plot(df)\n",
    "plt.plot(np.arange(16,16+8,1),fc)"
   ]
  },
  {
   "cell_type": "code",
   "execution_count": 35,
   "id": "4e969e6d",
   "metadata": {},
   "outputs": [
    {
     "data": {
      "text/plain": [
       "345988.91737608355"
      ]
     },
     "execution_count": 35,
     "metadata": {},
     "output_type": "execute_result"
    }
   ],
   "source": [
    "#RMSE for test data for M2 (Auto-ARIMA)\n",
    "from sklearn.metrics import mean_squared_error\n",
    "RMSE=mean_squared_error(test,fc,squared=False)\n",
    "RMSE"
   ]
  },
  {
   "cell_type": "code",
   "execution_count": 36,
   "id": "110770c7",
   "metadata": {},
   "outputs": [
    {
     "data": {
      "text/plain": [
       "-0.019490926331146463"
      ]
     },
     "execution_count": 36,
     "metadata": {},
     "output_type": "execute_result"
    }
   ],
   "source": [
    "from sklearn.metrics import r2_score\n",
    "\n",
    "r2 = r2_score(test, fc)\n",
    "r2"
   ]
  },
  {
   "cell_type": "markdown",
   "id": "8c37298d",
   "metadata": {},
   "source": [
    "# M3- Holts Winter's Model"
   ]
  },
  {
   "cell_type": "markdown",
   "id": "a1f2062c",
   "metadata": {},
   "source": [
    "# Simple Exponential Smoothing: Level "
   ]
  },
  {
   "cell_type": "code",
   "execution_count": 37,
   "id": "ac514992",
   "metadata": {},
   "outputs": [],
   "source": [
    "from statsmodels.tsa.holtwinters import SimpleExpSmoothing"
   ]
  },
  {
   "cell_type": "code",
   "execution_count": 38,
   "id": "fbbcbbbf",
   "metadata": {},
   "outputs": [],
   "source": [
    "ses = SimpleExpSmoothing(train)"
   ]
  },
  {
   "cell_type": "code",
   "execution_count": 39,
   "id": "50de26e2",
   "metadata": {},
   "outputs": [
    {
     "data": {
      "text/plain": [
       "statsmodels.tsa.holtwinters.model.SimpleExpSmoothing"
      ]
     },
     "execution_count": 39,
     "metadata": {},
     "output_type": "execute_result"
    }
   ],
   "source": [
    "type(ses)"
   ]
  },
  {
   "cell_type": "code",
   "execution_count": 40,
   "id": "2a9076aa",
   "metadata": {},
   "outputs": [],
   "source": [
    "result1 = ses.fit(smoothing_level=0.5, optimized=False)"
   ]
  },
  {
   "cell_type": "code",
   "execution_count": 41,
   "id": "5289b428",
   "metadata": {},
   "outputs": [
    {
     "data": {
      "text/html": [
       "<table class=\"simpletable\">\n",
       "<caption>SimpleExpSmoothing Model Results</caption>\n",
       "<tr>\n",
       "  <th>Dep. Variable:</th>       <td>Local Volume</td>    <th>  No. Observations:  </th>        <td>16</td>        \n",
       "</tr>\n",
       "<tr>\n",
       "  <th>Model:</th>            <td>SimpleExpSmoothing</td> <th>  SSE                </th> <td>1307257007250.377</td>\n",
       "</tr>\n",
       "<tr>\n",
       "  <th>Optimized:</th>               <td>False</td>       <th>  AIC                </th>      <td>406.022</td>     \n",
       "</tr>\n",
       "<tr>\n",
       "  <th>Trend:</th>                   <td>None</td>        <th>  BIC                </th>      <td>407.567</td>     \n",
       "</tr>\n",
       "<tr>\n",
       "  <th>Seasonal:</th>                <td>None</td>        <th>  AICC               </th>      <td>409.658</td>     \n",
       "</tr>\n",
       "<tr>\n",
       "  <th>Seasonal Periods:</th>        <td>None</td>        <th>  Date:              </th> <td>Mon, 29 Aug 2022</td> \n",
       "</tr>\n",
       "<tr>\n",
       "  <th>Box-Cox:</th>                 <td>False</td>       <th>  Time:              </th>     <td>22:35:06</td>     \n",
       "</tr>\n",
       "<tr>\n",
       "  <th>Box-Cox Coeff.:</th>          <td>None</td>        <th>                     </th>         <td> </td>        \n",
       "</tr>\n",
       "</table>\n",
       "<table class=\"simpletable\">\n",
       "<tr>\n",
       "         <td></td>                 <th>coeff</th>                <th>code</th>               <th>optimized</th>     \n",
       "</tr>\n",
       "<tr>\n",
       "  <th>smoothing_level</th> <td>           0.5000000</td> <td>               alpha</td> <td>               False</td>\n",
       "</tr>\n",
       "<tr>\n",
       "  <th>initial_level</th>   <td>          3.5328e+06</td> <td>                 l.0</td> <td>               False</td>\n",
       "</tr>\n",
       "</table>"
      ],
      "text/plain": [
       "<class 'statsmodels.iolib.summary.Summary'>\n",
       "\"\"\"\n",
       "                       SimpleExpSmoothing Model Results                       \n",
       "==============================================================================\n",
       "Dep. Variable:           Local Volume   No. Observations:                   16\n",
       "Model:             SimpleExpSmoothing   SSE                  1307257007250.377\n",
       "Optimized:                      False   AIC                            406.022\n",
       "Trend:                           None   BIC                            407.567\n",
       "Seasonal:                        None   AICC                           409.658\n",
       "Seasonal Periods:                None   Date:                 Mon, 29 Aug 2022\n",
       "Box-Cox:                        False   Time:                         22:35:06\n",
       "Box-Cox Coeff.:                  None                                         \n",
       "==============================================================================\n",
       "                       coeff                 code              optimized      \n",
       "------------------------------------------------------------------------------\n",
       "smoothing_level            0.5000000                alpha                False\n",
       "initial_level             3.5328e+06                  l.0                False\n",
       "------------------------------------------------------------------------------\n",
       "\"\"\""
      ]
     },
     "execution_count": 41,
     "metadata": {},
     "output_type": "execute_result"
    }
   ],
   "source": [
    "result1.summary()"
   ]
  },
  {
   "cell_type": "code",
   "execution_count": 42,
   "id": "26819a09",
   "metadata": {},
   "outputs": [],
   "source": [
    "mypred = result1.predict(start=1, end=24)"
   ]
  },
  {
   "cell_type": "code",
   "execution_count": 43,
   "id": "0a860e2d",
   "metadata": {},
   "outputs": [
    {
     "data": {
      "text/plain": [
       "[<matplotlib.lines.Line2D at 0x25c4abfc520>]"
      ]
     },
     "execution_count": 43,
     "metadata": {},
     "output_type": "execute_result"
    },
    {
     "data": {
      "image/png": "[encoded data removed]",
      "text/plain": [
       "<Figure size 432x288 with 1 Axes>"
      ]
     },
     "metadata": {
      "needs_background": "light"
     },
     "output_type": "display_data"
    }
   ],
   "source": [
    "plt.plot(train)\n",
    "plt.plot(mypred)"
   ]
  },
  {
   "cell_type": "code",
   "execution_count": 44,
   "id": "3316742b",
   "metadata": {},
   "outputs": [
    {
     "data": {
      "text/plain": [
       "{'smoothing_level': 0.5,\n",
       " 'smoothing_trend': None,\n",
       " 'smoothing_seasonal': None,\n",
       " 'damping_trend': nan,\n",
       " 'initial_level': 3532792.5,\n",
       " 'initial_trend': nan,\n",
       " 'initial_seasons': array([], dtype=float64),\n",
       " 'use_boxcox': False,\n",
       " 'lamda': None,\n",
       " 'remove_bias': False}"
      ]
     },
     "execution_count": 44,
     "metadata": {},
     "output_type": "execute_result"
    }
   ],
   "source": [
    "result1.params"
   ]
  },
  {
   "cell_type": "code",
   "execution_count": 45,
   "id": "e5921743",
   "metadata": {},
   "outputs": [
    {
     "data": {
      "text/plain": [
       "[<matplotlib.lines.Line2D at 0x25c4ac3b100>]"
      ]
     },
     "execution_count": 45,
     "metadata": {},
     "output_type": "execute_result"
    },
    {
     "data": {
      "image/png": "[encoded data removed]",
      "text/plain": [
       "<Figure size 432x288 with 1 Axes>"
      ]
     },
     "metadata": {
      "needs_background": "light"
     },
     "output_type": "display_data"
    }
   ],
   "source": [
    "plt.plot(train)\n",
    "plt.plot(result1.fittedvalues)\n",
    "plt.plot(result1.forecast(8))"
   ]
  },
  {
   "cell_type": "code",
   "execution_count": 46,
   "id": "79c5b59b",
   "metadata": {},
   "outputs": [],
   "source": [
    "result2 = ses.fit(smoothing_level=0.6, optimized=False) # optimize the values of alpha from 0.5 to 0.6"
   ]
  },
  {
   "cell_type": "code",
   "execution_count": 47,
   "id": "47a9a32b",
   "metadata": {},
   "outputs": [
    {
     "data": {
      "text/plain": [
       "[<matplotlib.lines.Line2D at 0x25c4ac9d720>]"
      ]
     },
     "execution_count": 47,
     "metadata": {},
     "output_type": "execute_result"
    },
    {
     "data": {
      "image/png": "[encoded data removed]",
      "text/plain": [
       "<Figure size 432x288 with 1 Axes>"
      ]
     },
     "metadata": {
      "needs_background": "light"
     },
     "output_type": "display_data"
    }
   ],
   "source": [
    "plt.plot(train)\n",
    "plt.plot(result2.fittedvalues)\n",
    "plt.plot(result2.forecast(8))"
   ]
  },
  {
   "cell_type": "code",
   "execution_count": 48,
   "id": "c77ec57d",
   "metadata": {},
   "outputs": [
    {
     "data": {
      "text/plain": [
       "{'smoothing_level': 0.6,\n",
       " 'smoothing_trend': None,\n",
       " 'smoothing_seasonal': None,\n",
       " 'damping_trend': nan,\n",
       " 'initial_level': 3532792.5,\n",
       " 'initial_trend': nan,\n",
       " 'initial_seasons': array([], dtype=float64),\n",
       " 'use_boxcox': False,\n",
       " 'lamda': None,\n",
       " 'remove_bias': False}"
      ]
     },
     "execution_count": 48,
     "metadata": {},
     "output_type": "execute_result"
    }
   ],
   "source": [
    "result2.params"
   ]
  },
  {
   "cell_type": "markdown",
   "id": "c7fe28e4",
   "metadata": {},
   "source": [
    "# Holt's linear trend values: Level+Trend"
   ]
  },
  {
   "cell_type": "code",
   "execution_count": 49,
   "id": "f4f4ba43",
   "metadata": {},
   "outputs": [],
   "source": [
    "from statsmodels.tsa.holtwinters import Holt"
   ]
  },
  {
   "cell_type": "code",
   "execution_count": 50,
   "id": "3d7dc2c7",
   "metadata": {},
   "outputs": [
    {
     "name": "stderr",
     "output_type": "stream",
     "text": [
      "C:\\Users\\Ishangi Jain\\AppData\\Local\\Programs\\Python\\Python310\\lib\\site-packages\\statsmodels\\tsa\\holtwinters\\model.py:915: ConvergenceWarning: Optimization failed to converge. Check mle_retvals.\n",
      "  warnings.warn(\n"
     ]
    },
    {
     "data": {
      "text/plain": [
       "{'smoothing_level': 0.005,\n",
       " 'smoothing_trend': 0.005,\n",
       " 'smoothing_seasonal': nan,\n",
       " 'damping_trend': nan,\n",
       " 'initial_level': 3532792.5,\n",
       " 'initial_trend': 16872.299999999814,\n",
       " 'initial_seasons': array([], dtype=float64),\n",
       " 'use_boxcox': False,\n",
       " 'lamda': None,\n",
       " 'remove_bias': False}"
      ]
     },
     "execution_count": 50,
     "metadata": {},
     "output_type": "execute_result"
    }
   ],
   "source": [
    "model = Holt(train)\n",
    "result3 = model.fit()\n",
    "result3.params"
   ]
  },
  {
   "cell_type": "code",
   "execution_count": 51,
   "id": "d67b6be7",
   "metadata": {},
   "outputs": [
    {
     "data": {
      "text/html": [
       "<table class=\"simpletable\">\n",
       "<caption>Holt Model Results</caption>\n",
       "<tr>\n",
       "  <th>Dep. Variable:</th>    <td>Local Volume</td> <th>  No. Observations:  </th>        <td>16</td>       \n",
       "</tr>\n",
       "<tr>\n",
       "  <th>Model:</th>                <td>Holt</td>     <th>  SSE                </th> <td>905990703716.481</td>\n",
       "</tr>\n",
       "<tr>\n",
       "  <th>Optimized:</th>            <td>True</td>     <th>  AIC                </th>      <td>404.155</td>    \n",
       "</tr>\n",
       "<tr>\n",
       "  <th>Trend:</th>              <td>Additive</td>   <th>  BIC                </th>      <td>407.246</td>    \n",
       "</tr>\n",
       "<tr>\n",
       "  <th>Seasonal:</th>             <td>None</td>     <th>  AICC               </th>      <td>413.489</td>    \n",
       "</tr>\n",
       "<tr>\n",
       "  <th>Seasonal Periods:</th>     <td>None</td>     <th>  Date:              </th> <td>Mon, 29 Aug 2022</td>\n",
       "</tr>\n",
       "<tr>\n",
       "  <th>Box-Cox:</th>              <td>False</td>    <th>  Time:              </th>     <td>22:35:07</td>    \n",
       "</tr>\n",
       "<tr>\n",
       "  <th>Box-Cox Coeff.:</th>       <td>None</td>     <th>                     </th>         <td> </td>       \n",
       "</tr>\n",
       "</table>\n",
       "<table class=\"simpletable\">\n",
       "<tr>\n",
       "         <td></td>                 <th>coeff</th>                <th>code</th>               <th>optimized</th>     \n",
       "</tr>\n",
       "<tr>\n",
       "  <th>smoothing_level</th> <td>           0.0050000</td> <td>               alpha</td> <td>                True</td>\n",
       "</tr>\n",
       "<tr>\n",
       "  <th>smoothing_trend</th> <td>           0.0050000</td> <td>                beta</td> <td>                True</td>\n",
       "</tr>\n",
       "<tr>\n",
       "  <th>initial_level</th>   <td>          3.5328e+06</td> <td>                 l.0</td> <td>                True</td>\n",
       "</tr>\n",
       "<tr>\n",
       "  <th>initial_trend</th>   <td>           16872.300</td> <td>                 b.0</td> <td>                True</td>\n",
       "</tr>\n",
       "</table>"
      ],
      "text/plain": [
       "<class 'statsmodels.iolib.summary.Summary'>\n",
       "\"\"\"\n",
       "                              Holt Model Results                              \n",
       "==============================================================================\n",
       "Dep. Variable:           Local Volume   No. Observations:                   16\n",
       "Model:                           Holt   SSE                   905990703716.481\n",
       "Optimized:                       True   AIC                            404.155\n",
       "Trend:                       Additive   BIC                            407.246\n",
       "Seasonal:                        None   AICC                           413.489\n",
       "Seasonal Periods:                None   Date:                 Mon, 29 Aug 2022\n",
       "Box-Cox:                        False   Time:                         22:35:07\n",
       "Box-Cox Coeff.:                  None                                         \n",
       "==============================================================================\n",
       "                       coeff                 code              optimized      \n",
       "------------------------------------------------------------------------------\n",
       "smoothing_level            0.0050000                alpha                 True\n",
       "smoothing_trend            0.0050000                 beta                 True\n",
       "initial_level             3.5328e+06                  l.0                 True\n",
       "initial_trend              16872.300                  b.0                 True\n",
       "------------------------------------------------------------------------------\n",
       "\"\"\""
      ]
     },
     "execution_count": 51,
     "metadata": {},
     "output_type": "execute_result"
    }
   ],
   "source": [
    "result3.summary()"
   ]
  },
  {
   "cell_type": "code",
   "execution_count": 52,
   "id": "63463698",
   "metadata": {},
   "outputs": [
    {
     "data": {
      "text/plain": [
       "[<matplotlib.lines.Line2D at 0x25c4be619f0>]"
      ]
     },
     "execution_count": 52,
     "metadata": {},
     "output_type": "execute_result"
    },
    {
     "data": {
      "image/png": "[encoded data removed]",
      "text/plain": [
       "<Figure size 432x288 with 1 Axes>"
      ]
     },
     "metadata": {
      "needs_background": "light"
     },
     "output_type": "display_data"
    }
   ],
   "source": [
    "plt.plot(train)\n",
    "plt.plot(result3.fittedvalues)\n",
    "plt.plot(result3.forecast(8))"
   ]
  },
  {
   "cell_type": "markdown",
   "id": "38f9c753",
   "metadata": {},
   "source": [
    "# Final Holtz Winter Model: Level+Trend+Seasonality"
   ]
  },
  {
   "cell_type": "code",
   "execution_count": 53,
   "id": "0f423a14",
   "metadata": {},
   "outputs": [],
   "source": [
    "from statsmodels.tsa.holtwinters import ExponentialSmoothing"
   ]
  },
  {
   "cell_type": "code",
   "execution_count": 61,
   "id": "91616620",
   "metadata": {},
   "outputs": [],
   "source": [
    "# there is no seasonality in this data\n",
    "model = ExponentialSmoothing(train, trend='add')"
   ]
  },
  {
   "cell_type": "code",
   "execution_count": 62,
   "id": "3f0dc5a4",
   "metadata": {},
   "outputs": [
    {
     "name": "stderr",
     "output_type": "stream",
     "text": [
      "C:\\Users\\Ishangi Jain\\AppData\\Local\\Programs\\Python\\Python310\\lib\\site-packages\\statsmodels\\tsa\\holtwinters\\model.py:915: ConvergenceWarning: Optimization failed to converge. Check mle_retvals.\n",
      "  warnings.warn(\n"
     ]
    },
    {
     "data": {
      "text/plain": [
       "{'smoothing_level': 0.005,\n",
       " 'smoothing_trend': 0.0001,\n",
       " 'smoothing_seasonal': nan,\n",
       " 'damping_trend': nan,\n",
       " 'initial_level': 3690582.463999998,\n",
       " 'initial_trend': 1373.4285454547498,\n",
       " 'initial_seasons': array([], dtype=float64),\n",
       " 'use_boxcox': False,\n",
       " 'lamda': None,\n",
       " 'remove_bias': False}"
      ]
     },
     "execution_count": 62,
     "metadata": {},
     "output_type": "execute_result"
    }
   ],
   "source": [
    "result4 = model.fit()\n",
    "result4.params"
   ]
  },
  {
   "cell_type": "code",
   "execution_count": 63,
   "id": "3b134ebb",
   "metadata": {},
   "outputs": [
    {
     "data": {
      "text/html": [
       "<table class=\"simpletable\">\n",
       "<caption>ExponentialSmoothing Model Results</caption>\n",
       "<tr>\n",
       "  <th>Dep. Variable:</th>        <td>Local Volume</td>     <th>  No. Observations:  </th>        <td>16</td>       \n",
       "</tr>\n",
       "<tr>\n",
       "  <th>Model:</th>            <td>ExponentialSmoothing</td> <th>  SSE                </th> <td>861294968352.427</td>\n",
       "</tr>\n",
       "<tr>\n",
       "  <th>Optimized:</th>                <td>True</td>         <th>  AIC                </th>      <td>403.346</td>    \n",
       "</tr>\n",
       "<tr>\n",
       "  <th>Trend:</th>                  <td>Additive</td>       <th>  BIC                </th>      <td>406.436</td>    \n",
       "</tr>\n",
       "<tr>\n",
       "  <th>Seasonal:</th>                 <td>None</td>         <th>  AICC               </th>      <td>412.679</td>    \n",
       "</tr>\n",
       "<tr>\n",
       "  <th>Seasonal Periods:</th>         <td>None</td>         <th>  Date:              </th> <td>Mon, 29 Aug 2022</td>\n",
       "</tr>\n",
       "<tr>\n",
       "  <th>Box-Cox:</th>                  <td>False</td>        <th>  Time:              </th>     <td>22:35:52</td>    \n",
       "</tr>\n",
       "<tr>\n",
       "  <th>Box-Cox Coeff.:</th>           <td>None</td>         <th>                     </th>         <td> </td>       \n",
       "</tr>\n",
       "</table>\n",
       "<table class=\"simpletable\">\n",
       "<tr>\n",
       "         <td></td>                 <th>coeff</th>                <th>code</th>               <th>optimized</th>     \n",
       "</tr>\n",
       "<tr>\n",
       "  <th>smoothing_level</th> <td>           0.0050000</td> <td>               alpha</td> <td>                True</td>\n",
       "</tr>\n",
       "<tr>\n",
       "  <th>smoothing_trend</th> <td>              0.0001</td> <td>                beta</td> <td>                True</td>\n",
       "</tr>\n",
       "<tr>\n",
       "  <th>initial_level</th>   <td>          3.6906e+06</td> <td>                 l.0</td> <td>                True</td>\n",
       "</tr>\n",
       "<tr>\n",
       "  <th>initial_trend</th>   <td>           1373.4285</td> <td>                 b.0</td> <td>                True</td>\n",
       "</tr>\n",
       "</table>"
      ],
      "text/plain": [
       "<class 'statsmodels.iolib.summary.Summary'>\n",
       "\"\"\"\n",
       "                       ExponentialSmoothing Model Results                       \n",
       "================================================================================\n",
       "Dep. Variable:             Local Volume   No. Observations:                   16\n",
       "Model:             ExponentialSmoothing   SSE                   861294968352.427\n",
       "Optimized:                         True   AIC                            403.346\n",
       "Trend:                         Additive   BIC                            406.436\n",
       "Seasonal:                          None   AICC                           412.679\n",
       "Seasonal Periods:                  None   Date:                 Mon, 29 Aug 2022\n",
       "Box-Cox:                          False   Time:                         22:35:52\n",
       "Box-Cox Coeff.:                    None                                         \n",
       "==============================================================================\n",
       "                       coeff                 code              optimized      \n",
       "------------------------------------------------------------------------------\n",
       "smoothing_level            0.0050000                alpha                 True\n",
       "smoothing_trend               0.0001                 beta                 True\n",
       "initial_level             3.6906e+06                  l.0                 True\n",
       "initial_trend              1373.4285                  b.0                 True\n",
       "------------------------------------------------------------------------------\n",
       "\"\"\""
      ]
     },
     "execution_count": 63,
     "metadata": {},
     "output_type": "execute_result"
    }
   ],
   "source": [
    "result4.summary()"
   ]
  },
  {
   "cell_type": "code",
   "execution_count": 64,
   "id": "80deb5f4",
   "metadata": {},
   "outputs": [
    {
     "data": {
      "text/plain": [
       "[<matplotlib.lines.Line2D at 0x25c4bf1e6e0>]"
      ]
     },
     "execution_count": 64,
     "metadata": {},
     "output_type": "execute_result"
    },
    {
     "data": {
      "image/png": "[encoded data removed]",
      "text/plain": [
       "<Figure size 432x288 with 1 Axes>"
      ]
     },
     "metadata": {
      "needs_background": "light"
     },
     "output_type": "display_data"
    }
   ],
   "source": [
    "plt.plot(train)\n",
    "plt.plot(result4.fittedvalues)\n",
    "plt.plot(result4.forecast(8))"
   ]
  },
  {
   "cell_type": "code",
   "execution_count": 65,
   "id": "16452dcf",
   "metadata": {},
   "outputs": [
    {
     "data": {
      "text/plain": [
       "341660.22525410313"
      ]
     },
     "execution_count": 65,
     "metadata": {},
     "output_type": "execute_result"
    }
   ],
   "source": [
    "from sklearn.metrics import mean_squared_error\n",
    "RMSE=mean_squared_error(test,result4.forecast(8),squared=False)\n",
    "RMSE"
   ]
  },
  {
   "cell_type": "code",
   "execution_count": 66,
   "id": "ff5f726d",
   "metadata": {},
   "outputs": [
    {
     "data": {
      "text/plain": [
       "0.005859343874099476"
      ]
     },
     "execution_count": 66,
     "metadata": {},
     "output_type": "execute_result"
    }
   ],
   "source": [
    "from sklearn.metrics import r2_score\n",
    "\n",
    "r2 = r2_score(test, result4.forecast(8))\n",
    "r2"
   ]
  },
  {
   "cell_type": "markdown",
   "id": "af5e013c",
   "metadata": {},
   "source": [
    "# Conclusion: Holtz Winter's model is the preferred model for this data as it is showing better R-squared value and better accuracy."
   ]
  }
 ],
 "metadata": {
  "kernelspec": {
   "display_name": "Python 3 (ipykernel)",
   "language": "python",
   "name": "python3"
  },
  "language_info": {
   "codemirror_mode": {
    "name": "ipython",
    "version": 3
   },
   "file_extension": ".py",
   "mimetype": "text/x-python",
   "name": "python",
   "nbconvert_exporter": "python",
   "pygments_lexer": "ipython3",
   "version": "3.10.0"
  }
 },
 "nbformat": 4,
 "nbformat_minor": 5
}
